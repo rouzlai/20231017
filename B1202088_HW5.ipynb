{
  "nbformat": 4,
  "nbformat_minor": 0,
  "metadata": {
    "colab": {
      "provenance": []
    },
    "kernelspec": {
      "name": "python3",
      "display_name": "Python 3"
    },
    "language_info": {
      "name": "python"
    }
  },
  "cells": [
    {
      "cell_type": "code",
      "execution_count": null,
      "metadata": {
        "colab": {
          "base_uri": "https://localhost:8080/"
        },
        "id": "yXqAXbn0O3Bp",
        "outputId": "b897ab8b-3a19-4056-893c-b970688cf253"
      },
      "outputs": [
        {
          "output_type": "stream",
          "name": "stdout",
          "text": [
            "        *        \n",
            "       ***       \n",
            "      *****      \n",
            "     *******     \n",
            "    *********    \n",
            "   ***********   \n",
            "  *************  \n",
            " *************** \n",
            "*****************\n",
            "       ***       \n",
            "       ***       \n",
            "       ***       \n",
            "       ***       \n",
            "       ***       \n"
          ]
        }
      ],
      "source": [
        "for i in range(1,19,2):\n",
        "  a = \"\"\n",
        "  for j in range(i):\n",
        "    a = a + \"*\"\n",
        "  print (f\"{a:^17s}\",end=\"\")\n",
        "  print (\"\")\n",
        "for i in range(5):\n",
        "  a = \"***\"\n",
        "  print (f\"{a:^17s}\")"
      ]
    },
    {
      "cell_type": "code",
      "source": [
        "import random\n",
        "Ans = random.sample(range(1,10),4)\n",
        "print (\"答案：\",Ans)\n",
        "a = b = c = 0\n",
        "while a != 4:\n",
        "  Num = str(input(\"請輸入四個數字（不重複）：\"))\n",
        "  Numlist = list(Num)\n",
        "  while len(Numlist) != 4:\n",
        "    if len(Numlist)>4:\n",
        "      Numlist = list(str(input(\"輸入數字過多，請重新輸入四個數字（不會重複）：\")))\n",
        "    else:\n",
        "      Numlist = list(str(input(\"輸入數字過少，請重新輸入四個數字（不會重複）：\")))\n",
        "  a = b = 0\n",
        "  for i in range(0,4):\n",
        "    for j in range(0,4):\n",
        "      if int(Numlist[i]) == Ans[j]:\n",
        "        if i == j:\n",
        "            a += 1\n",
        "        else:\n",
        "            b += 1\n",
        "  print (a,\"A\",b,\"B\")\n",
        "  c += 1\n",
        "print (\"答對了！總共猜了\",c,\"次\")\n"
      ],
      "metadata": {
        "colab": {
          "base_uri": "https://localhost:8080/"
        },
        "id": "3AoQHoQMUasL",
        "outputId": "fbfec7fa-8a82-430c-8232-fa380b4d0f34"
      },
      "execution_count": 7,
      "outputs": [
        {
          "output_type": "stream",
          "name": "stdout",
          "text": [
            "答案： [8, 4, 2, 6]\n",
            "請輸入四個數字（不重複）：87654\n",
            "輸入數字過多，請重新輸入四個數字（不會重複）：8456\n",
            "3 A 0 B\n",
            "請輸入四個數字（不重複）：8426\n",
            "4 A 0 B\n",
            "答對了！總共猜了 2 次\n"
          ]
        }
      ]
    }
  ]
}